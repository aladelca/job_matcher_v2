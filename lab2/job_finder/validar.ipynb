{
 "cells": [
  {
   "cell_type": "code",
   "execution_count": 2,
   "id": "f97813d9",
   "metadata": {},
   "outputs": [
    {
     "name": "stdout",
     "output_type": "stream",
     "text": [
      "Django setup complete!\n",
      "Async Django functions created. Use await get_document_count() to query the database.\n"
     ]
    }
   ],
   "source": [
    "import os\n",
    "import sys\n",
    "import django\n",
    "from asgiref.sync import sync_to_async\n",
    "\n",
    "# Add the parent directory to Python path\n",
    "sys.path.append('/Users/adrianalarcon/Library/CloudStorage/GoogleDrive-alarcon.adrianc@gmail.com/My Drive/cibert_sab_dom_14_sep_2025/artificial_intelligence/repos/job_finder/lab2')\n",
    "\n",
    "# Set the Django settings module\n",
    "os.environ.setdefault('DJANGO_SETTINGS_MODULE', 'lab2.settings')\n",
    "\n",
    "# Setup Django\n",
    "django.setup()\n",
    "\n",
    "# Now import Django components\n",
    "from django.shortcuts import render, redirect\n",
    "from job_finder.forms import DocumentForm\n",
    "from job_finder.models import Document\n",
    "import pandas as pd\n",
    "\n",
    "print(\"Django setup complete!\")\n",
    "\n",
    "# Create async wrapper functions for Django ORM operations\n",
    "@sync_to_async\n",
    "def get_document_count():\n",
    "    return Document.objects.count()\n",
    "\n",
    "@sync_to_async\n",
    "def get_all_documents():\n",
    "    return list(Document.objects.all().values())\n",
    "\n",
    "@sync_to_async\n",
    "def create_document(document_file):\n",
    "    return Document.objects.create(document=document_file)\n",
    "\n",
    "print(\"Async Django functions created. Use await get_document_count() to query the database.\")"
   ]
  },
  {
   "cell_type": "code",
   "execution_count": 3,
   "id": "q0aj96p6aa",
   "metadata": {},
   "outputs": [
    {
     "name": "stdout",
     "output_type": "stream",
     "text": [
      "Number of documents in database: 1\n",
      "Documents: [{'id': 1, 'document': 'documents/Minimum_qualifications.docx', 'uploaded_at': datetime.datetime(2025, 9, 28, 15, 10, 31, 251174, tzinfo=datetime.timezone.utc)}]\n"
     ]
    }
   ],
   "source": [
    "# Test the async Django functions\n",
    "try:\n",
    "    count = await get_document_count()\n",
    "    print(f\"Number of documents in database: {count}\")\n",
    "    \n",
    "    # Get all documents\n",
    "    documents = await get_all_documents()\n",
    "    print(f\"Documents: {documents}\")\n",
    "    \n",
    "except Exception as e:\n",
    "    print(f\"Error: {e}\")\n",
    "    print(\"Make sure to run migrations if you haven't: python manage.py migrate\")"
   ]
  },
  {
   "cell_type": "code",
   "execution_count": 4,
   "id": "8e6c0593",
   "metadata": {},
   "outputs": [
    {
     "data": {
      "text/plain": [
       "\"<a href='1'>1</a>\""
      ]
     },
     "execution_count": 4,
     "metadata": {},
     "output_type": "execute_result"
    }
   ],
   "source": [
    "def add_url(data):\n",
    "        output = \"<a href='\"\n",
    "        output = output + data\n",
    "        output = output + \"'>\" + data + \"</a>\"\n",
    "        return output\n",
    "\n",
    "add_url(\"1\")"
   ]
  },
  {
   "cell_type": "code",
   "execution_count": 5,
   "id": "qtakleuwy5",
   "metadata": {},
   "outputs": [
    {
     "name": "stdout",
     "output_type": "stream",
     "text": [
      "Requirement already satisfied: nest_asyncio in /Users/adrianalarcon/Library/CloudStorage/GoogleDrive-alarcon.adrianc@gmail.com/My Drive/cibert_sab_dom_14_sep_2025/artificial_intelligence/repos/job_finder/.venv/lib/python3.13/site-packages (1.6.0)\n",
      "\n",
      "\u001b[1m[\u001b[0m\u001b[34;49mnotice\u001b[0m\u001b[1;39;49m]\u001b[0m\u001b[39;49m A new release of pip is available: \u001b[0m\u001b[31;49m25.1.1\u001b[0m\u001b[39;49m -> \u001b[0m\u001b[32;49m25.2\u001b[0m\n",
      "\u001b[1m[\u001b[0m\u001b[34;49mnotice\u001b[0m\u001b[1;39;49m]\u001b[0m\u001b[39;49m To update, run: \u001b[0m\u001b[32;49mpip install --upgrade pip\u001b[0m\n"
     ]
    }
   ],
   "source": [
    "# Install nest_asyncio if needed\n",
    "!pip install nest_asyncio"
   ]
  },
  {
   "cell_type": "code",
   "execution_count": 6,
   "id": "d2175b42",
   "metadata": {},
   "outputs": [
    {
     "data": {
      "text/html": [
       "<div>\n",
       "<style scoped>\n",
       "    .dataframe tbody tr th:only-of-type {\n",
       "        vertical-align: middle;\n",
       "    }\n",
       "\n",
       "    .dataframe tbody tr th {\n",
       "        vertical-align: top;\n",
       "    }\n",
       "\n",
       "    .dataframe thead th {\n",
       "        text-align: right;\n",
       "    }\n",
       "</style>\n",
       "<table border=\"1\" class=\"dataframe\">\n",
       "  <thead>\n",
       "    <tr style=\"text-align: right;\">\n",
       "      <th></th>\n",
       "      <th>PUESTO</th>\n",
       "    </tr>\n",
       "  </thead>\n",
       "  <tbody>\n",
       "    <tr>\n",
       "      <th>0</th>\n",
       "      <td>Ejecutivo Ventas CALL CENTER C/EXP PRESENCIAL ...</td>\n",
       "    </tr>\n",
       "    <tr>\n",
       "      <th>1</th>\n",
       "      <td>Jefe de Selección del Talento</td>\n",
       "    </tr>\n",
       "    <tr>\n",
       "      <th>2</th>\n",
       "      <td>Administrador de Cuenta Comercial - Villa El S...</td>\n",
       "    </tr>\n",
       "    <tr>\n",
       "      <th>3</th>\n",
       "      <td>Analista Sr. Comunicación Organizacional</td>\n",
       "    </tr>\n",
       "    <tr>\n",
       "      <th>4</th>\n",
       "      <td>Mecanico Aeronautico    - Latam Airlines Chile</td>\n",
       "    </tr>\n",
       "    <tr>\n",
       "      <th>...</th>\n",
       "      <td>...</td>\n",
       "    </tr>\n",
       "    <tr>\n",
       "      <th>12654</th>\n",
       "      <td>Asesor comercial - Campo</td>\n",
       "    </tr>\n",
       "    <tr>\n",
       "      <th>12655</th>\n",
       "      <td>Atención al Cliente Sin Experiencia Turno Tard...</td>\n",
       "    </tr>\n",
       "    <tr>\n",
       "      <th>12656</th>\n",
       "      <td>ANALISTA DE COSTOS</td>\n",
       "    </tr>\n",
       "    <tr>\n",
       "      <th>12657</th>\n",
       "      <td>Asistente Contable - Tributaciones</td>\n",
       "    </tr>\n",
       "    <tr>\n",
       "      <th>12658</th>\n",
       "      <td>Analista Senior de Compensaciones</td>\n",
       "    </tr>\n",
       "  </tbody>\n",
       "</table>\n",
       "<p>12659 rows × 1 columns</p>\n",
       "</div>"
      ],
      "text/plain": [
       "                                                  PUESTO\n",
       "0      Ejecutivo Ventas CALL CENTER C/EXP PRESENCIAL ...\n",
       "1                          Jefe de Selección del Talento\n",
       "2      Administrador de Cuenta Comercial - Villa El S...\n",
       "3               Analista Sr. Comunicación Organizacional\n",
       "4         Mecanico Aeronautico    - Latam Airlines Chile\n",
       "...                                                  ...\n",
       "12654                           Asesor comercial - Campo\n",
       "12655  Atención al Cliente Sin Experiencia Turno Tard...\n",
       "12656                                 ANALISTA DE COSTOS\n",
       "12657                 Asistente Contable - Tributaciones\n",
       "12658                  Analista Senior de Compensaciones\n",
       "\n",
       "[12659 rows x 1 columns]"
      ]
     },
     "execution_count": 6,
     "metadata": {},
     "output_type": "execute_result"
    }
   ],
   "source": [
    "import pickle\n",
    "\n",
    "data = pickle.load(open(\"static/data/puestos.pickle\", \"rb\"))\n",
    "data"
   ]
  },
  {
   "cell_type": "code",
   "execution_count": 15,
   "id": "3a1d4383",
   "metadata": {},
   "outputs": [],
   "source": [
    "import re\n",
    "def limpiar_texto(texto):\n",
    "      texto = texto.lower()\n",
    "      return re.sub(r'[^a-zA-Z0-9áéíóúüñÁÉÍÓÚÜÑ /]', '', texto)\n",
    "\n",
    "data[\"puesto_limpio\"] = data[\"PUESTO\"].apply(limpiar_texto)"
   ]
  },
  {
   "cell_type": "code",
   "execution_count": 16,
   "id": "4d9d6aae",
   "metadata": {},
   "outputs": [
    {
     "name": "stderr",
     "output_type": "stream",
     "text": [
      "[nltk_data] Downloading package punkt to\n",
      "[nltk_data]     /Users/adrianalarcon/nltk_data...\n",
      "[nltk_data]   Package punkt is already up-to-date!\n",
      "[nltk_data] Downloading package stopwords to\n",
      "[nltk_data]     /Users/adrianalarcon/nltk_data...\n",
      "[nltk_data]   Package stopwords is already up-to-date!\n"
     ]
    },
    {
     "data": {
      "text/html": [
       "<div>\n",
       "<style scoped>\n",
       "    .dataframe tbody tr th:only-of-type {\n",
       "        vertical-align: middle;\n",
       "    }\n",
       "\n",
       "    .dataframe tbody tr th {\n",
       "        vertical-align: top;\n",
       "    }\n",
       "\n",
       "    .dataframe thead th {\n",
       "        text-align: right;\n",
       "    }\n",
       "</style>\n",
       "<table border=\"1\" class=\"dataframe\">\n",
       "  <thead>\n",
       "    <tr style=\"text-align: right;\">\n",
       "      <th></th>\n",
       "      <th>PUESTO</th>\n",
       "      <th>puesto_limpio</th>\n",
       "      <th>puesto_tokens</th>\n",
       "      <th>puesto_lemmas</th>\n",
       "      <th>puesto_final</th>\n",
       "    </tr>\n",
       "  </thead>\n",
       "  <tbody>\n",
       "    <tr>\n",
       "      <th>0</th>\n",
       "      <td>Ejecutivo Ventas CALL CENTER C/EXP PRESENCIAL ...</td>\n",
       "      <td>ejecutivo ventas call center c/exp presencial ...</td>\n",
       "      <td>[ejecutivo, ventas, call, center, c/exp, prese...</td>\n",
       "      <td>[ejecutivo, ventas, call, center, c/exp, prese...</td>\n",
       "      <td>ejecutivo ventas call center c/exp presencial ...</td>\n",
       "    </tr>\n",
       "    <tr>\n",
       "      <th>1</th>\n",
       "      <td>Jefe de Selección del Talento</td>\n",
       "      <td>jefe de selección del talento</td>\n",
       "      <td>[jefe, selección, talento]</td>\n",
       "      <td>[jefe, selección, talento]</td>\n",
       "      <td>jefe selección talento</td>\n",
       "    </tr>\n",
       "    <tr>\n",
       "      <th>2</th>\n",
       "      <td>Administrador de Cuenta Comercial - Villa El S...</td>\n",
       "      <td>administrador de cuenta comercial  villa el sa...</td>\n",
       "      <td>[administrador, cuenta, comercial, villa, salv...</td>\n",
       "      <td>[administrador, cuenta, comercial, villa, salv...</td>\n",
       "      <td>administrador cuenta comercial villa salvador</td>\n",
       "    </tr>\n",
       "    <tr>\n",
       "      <th>3</th>\n",
       "      <td>Analista Sr. Comunicación Organizacional</td>\n",
       "      <td>analista sr comunicación organizacional</td>\n",
       "      <td>[analista, sr, comunicación, organizacional]</td>\n",
       "      <td>[analista, sr, comunicación, organizacional]</td>\n",
       "      <td>analista sr comunicación organizacional</td>\n",
       "    </tr>\n",
       "    <tr>\n",
       "      <th>4</th>\n",
       "      <td>Mecanico Aeronautico    - Latam Airlines Chile</td>\n",
       "      <td>mecanico aeronautico     latam airlines chile</td>\n",
       "      <td>[mecanico, aeronautico, latam, airlines, chile]</td>\n",
       "      <td>[mecanico, aeronautico, latam, airlines, chile]</td>\n",
       "      <td>mecanico aeronautico latam airlines chile</td>\n",
       "    </tr>\n",
       "  </tbody>\n",
       "</table>\n",
       "</div>"
      ],
      "text/plain": [
       "                                              PUESTO  \\\n",
       "0  Ejecutivo Ventas CALL CENTER C/EXP PRESENCIAL ...   \n",
       "1                      Jefe de Selección del Talento   \n",
       "2  Administrador de Cuenta Comercial - Villa El S...   \n",
       "3           Analista Sr. Comunicación Organizacional   \n",
       "4     Mecanico Aeronautico    - Latam Airlines Chile   \n",
       "\n",
       "                                       puesto_limpio  \\\n",
       "0  ejecutivo ventas call center c/exp presencial ...   \n",
       "1                      jefe de selección del talento   \n",
       "2  administrador de cuenta comercial  villa el sa...   \n",
       "3            analista sr comunicación organizacional   \n",
       "4      mecanico aeronautico     latam airlines chile   \n",
       "\n",
       "                                       puesto_tokens  \\\n",
       "0  [ejecutivo, ventas, call, center, c/exp, prese...   \n",
       "1                         [jefe, selección, talento]   \n",
       "2  [administrador, cuenta, comercial, villa, salv...   \n",
       "3       [analista, sr, comunicación, organizacional]   \n",
       "4    [mecanico, aeronautico, latam, airlines, chile]   \n",
       "\n",
       "                                       puesto_lemmas  \\\n",
       "0  [ejecutivo, ventas, call, center, c/exp, prese...   \n",
       "1                         [jefe, selección, talento]   \n",
       "2  [administrador, cuenta, comercial, villa, salv...   \n",
       "3       [analista, sr, comunicación, organizacional]   \n",
       "4    [mecanico, aeronautico, latam, airlines, chile]   \n",
       "\n",
       "                                        puesto_final  \n",
       "0  ejecutivo ventas call center c/exp presencial ...  \n",
       "1                             jefe selección talento  \n",
       "2      administrador cuenta comercial villa salvador  \n",
       "3            analista sr comunicación organizacional  \n",
       "4          mecanico aeronautico latam airlines chile  "
      ]
     },
     "execution_count": 16,
     "metadata": {},
     "output_type": "execute_result"
    }
   ],
   "source": [
    "import nltk\n",
    "\n",
    "nltk.download('punkt')\n",
    "nltk.download('stopwords')\n",
    "from nltk.corpus import stopwords\n",
    "from nltk.tokenize import word_tokenize\n",
    "from nltk.stem import WordNetLemmatizer\n",
    "stop_words = set(stopwords.words('spanish'))\n",
    "\n",
    "data[\"puesto_tokens\"] = data[\"puesto_limpio\"].apply(word_tokenize)\n",
    "\n",
    "data[\"puesto_tokens\"] = data[\"puesto_tokens\"].apply(lambda tokens: [t for t in tokens if t not in stop_words])\n",
    "\n",
    "lemmatizer = WordNetLemmatizer()\n",
    "data[\"puesto_lemmas\"] = data[\"puesto_tokens\"].apply(lambda tokens: [lemmatizer.lemmatize(t, pos = \"v\") for t in tokens])\n",
    "\n",
    "data[\"puesto_final\"] = data[\"puesto_lemmas\"].apply(lambda tokens: ' '.join(tokens))\n",
    "\n",
    "data.head()"
   ]
  },
  {
   "cell_type": "code",
   "execution_count": 18,
   "id": "2a53da60",
   "metadata": {},
   "outputs": [
    {
     "data": {
      "text/plain": [
       "<Compressed Sparse Row sparse matrix of dtype 'float64'\n",
       "\twith 52894 stored elements and shape (12659, 4881)>"
      ]
     },
     "execution_count": 18,
     "metadata": {},
     "output_type": "execute_result"
    }
   ],
   "source": [
    "from sklearn.feature_extraction.text import TfidfVectorizer\n",
    "\n",
    "vectorizer = TfidfVectorizer()\n",
    "X = vectorizer.fit_transform(data[\"puesto_final\"])\n",
    "X"
   ]
  },
  {
   "cell_type": "code",
   "execution_count": 19,
   "id": "07b62a9b",
   "metadata": {},
   "outputs": [],
   "source": [
    "pickle.dump(vectorizer, open(\"static/data/vectorizer.pickle\", \"wb\"))"
   ]
  },
  {
   "cell_type": "code",
   "execution_count": 20,
   "id": "50b660b4",
   "metadata": {},
   "outputs": [
    {
     "name": "stderr",
     "output_type": "stream",
     "text": [
      "[nltk_data] Downloading package punkt to\n",
      "[nltk_data]     /Users/adrianalarcon/nltk_data...\n",
      "[nltk_data]   Package punkt is already up-to-date!\n",
      "[nltk_data] Downloading package stopwords to\n",
      "[nltk_data]     /Users/adrianalarcon/nltk_data...\n",
      "[nltk_data]   Package stopwords is already up-to-date!\n"
     ]
    }
   ],
   "source": [
    "from preprocessing import preprocess_text"
   ]
  },
  {
   "cell_type": "code",
   "execution_count": 31,
   "id": "0a4b1e58",
   "metadata": {},
   "outputs": [
    {
     "data": {
      "text/plain": [
       "<Compressed Sparse Row sparse matrix of dtype 'float64'\n",
       "\twith 52369 stored elements and shape (12659, 4881)>"
      ]
     },
     "execution_count": 31,
     "metadata": {},
     "output_type": "execute_result"
    }
   ],
   "source": [
    "data = pickle.load(open(\"static/data/puestos.pickle\", \"rb\"))\n",
    "job_vect, vect, job_processed = preprocess_text(data, \"PUESTO\")\n",
    "job_vect"
   ]
  },
  {
   "cell_type": "code",
   "execution_count": 32,
   "id": "e4e5e7fd",
   "metadata": {},
   "outputs": [
    {
     "data": {
      "text/plain": [
       "<Compressed Sparse Row sparse matrix of dtype 'float64'\n",
       "\twith 108 stored elements and shape (1, 4881)>"
      ]
     },
     "execution_count": 32,
     "metadata": {},
     "output_type": "execute_result"
    }
   ],
   "source": [
    "import docx\n",
    "def word_to_text(filename):\n",
    "        doc = docx.Document(filename)\n",
    "        fullText = []\n",
    "        for para in doc.paragraphs:\n",
    "            fullText.append(para.text)\n",
    "        return '\\n'.join(fullText)\n",
    "\n",
    "filename = \"../documents/Carlos Adrián Alarcón Delgado alarcon.docx\"\n",
    "cv_text = word_to_text(filename)\n",
    "cv_df = pd.DataFrame([cv_text], columns=[\"cv\"])\n",
    "\n",
    "cv_vect, vect, df_processed = preprocess_text(cv_df, \"cv\")\n",
    "cv_vect"
   ]
  },
  {
   "cell_type": "code",
   "execution_count": 42,
   "id": "de4edb3c",
   "metadata": {},
   "outputs": [
    {
     "data": {
      "text/html": [
       "<div>\n",
       "<style scoped>\n",
       "    .dataframe tbody tr th:only-of-type {\n",
       "        vertical-align: middle;\n",
       "    }\n",
       "\n",
       "    .dataframe tbody tr th {\n",
       "        vertical-align: top;\n",
       "    }\n",
       "\n",
       "    .dataframe thead th {\n",
       "        text-align: right;\n",
       "    }\n",
       "</style>\n",
       "<table border=\"1\" class=\"dataframe\">\n",
       "  <thead>\n",
       "    <tr style=\"text-align: right;\">\n",
       "      <th></th>\n",
       "      <th>PUESTO</th>\n",
       "      <th>PUESTO_limpio</th>\n",
       "      <th>PUESTO_limpio_tokens</th>\n",
       "      <th>PUESTO_limpio_sin_stopwords</th>\n",
       "      <th>PUESTO_limpio_lematizado</th>\n",
       "      <th>PUESTO_limpio_final</th>\n",
       "    </tr>\n",
       "  </thead>\n",
       "  <tbody>\n",
       "    <tr>\n",
       "      <th>7128</th>\n",
       "      <td>COORDINADOR ANALYTICS Y BIG DATA</td>\n",
       "      <td>coordinador analytics y big data</td>\n",
       "      <td>[coordinador, analytics, y, big, data]</td>\n",
       "      <td>[coordinador, analytics, big, data]</td>\n",
       "      <td>[coordinador, analytics, big, data]</td>\n",
       "      <td>coordinador analytics big data</td>\n",
       "    </tr>\n",
       "    <tr>\n",
       "      <th>11302</th>\n",
       "      <td>ANALISTA BI DATA ANALYTICS COMERCIAL- SQL AVAN...</td>\n",
       "      <td>analista bi data analytics comercial sql avanzado</td>\n",
       "      <td>[analista, bi, data, analytics, comercial, sql...</td>\n",
       "      <td>[analista, bi, data, analytics, comercial, sql...</td>\n",
       "      <td>[analista, bi, data, analytics, comercial, sql...</td>\n",
       "      <td>analista bi data analytics comercial sql avanzado</td>\n",
       "    </tr>\n",
       "    <tr>\n",
       "      <th>5479</th>\n",
       "      <td>ANALISTA BI DATA ANALYTICS COMERCIAL- SQL AVAN...</td>\n",
       "      <td>analista bi data analytics comercial sql avanzado</td>\n",
       "      <td>[analista, bi, data, analytics, comercial, sql...</td>\n",
       "      <td>[analista, bi, data, analytics, comercial, sql...</td>\n",
       "      <td>[analista, bi, data, analytics, comercial, sql...</td>\n",
       "      <td>analista bi data analytics comercial sql avanzado</td>\n",
       "    </tr>\n",
       "    <tr>\n",
       "      <th>3185</th>\n",
       "      <td>Senior Data Engineer (Big Data)</td>\n",
       "      <td>senior data engineer big data</td>\n",
       "      <td>[senior, data, engineer, big, data]</td>\n",
       "      <td>[senior, data, engineer, big, data]</td>\n",
       "      <td>[senior, data, engineer, big, data]</td>\n",
       "      <td>senior data engineer big data</td>\n",
       "    </tr>\n",
       "    <tr>\n",
       "      <th>11631</th>\n",
       "      <td>Data Management</td>\n",
       "      <td>data management</td>\n",
       "      <td>[data, management]</td>\n",
       "      <td>[data, management]</td>\n",
       "      <td>[data, management]</td>\n",
       "      <td>data management</td>\n",
       "    </tr>\n",
       "    <tr>\n",
       "      <th>7001</th>\n",
       "      <td>Analista de de Business Analytics</td>\n",
       "      <td>analista de de business analytics</td>\n",
       "      <td>[analista, de, de, business, analytics]</td>\n",
       "      <td>[analista, business, analytics]</td>\n",
       "      <td>[analista, business, analytics]</td>\n",
       "      <td>analista business analytics</td>\n",
       "    </tr>\n",
       "    <tr>\n",
       "      <th>5395</th>\n",
       "      <td>Data Scientist</td>\n",
       "      <td>data scientist</td>\n",
       "      <td>[data, scientist]</td>\n",
       "      <td>[data, scientist]</td>\n",
       "      <td>[data, scientist]</td>\n",
       "      <td>data scientist</td>\n",
       "    </tr>\n",
       "    <tr>\n",
       "      <th>11498</th>\n",
       "      <td>Data Scientist</td>\n",
       "      <td>data scientist</td>\n",
       "      <td>[data, scientist]</td>\n",
       "      <td>[data, scientist]</td>\n",
       "      <td>[data, scientist]</td>\n",
       "      <td>data scientist</td>\n",
       "    </tr>\n",
       "    <tr>\n",
       "      <th>7332</th>\n",
       "      <td>Gestor de cultura de Datos- experiencia en ven...</td>\n",
       "      <td>gestor de cultura de datos experiencia en vent...</td>\n",
       "      <td>[gestor, de, cultura, de, datos, experiencia, ...</td>\n",
       "      <td>[gestor, cultura, datos, experiencia, ventas, ...</td>\n",
       "      <td>[gestor, cultura, datos, experiencia, ventas, ...</td>\n",
       "      <td>gestor cultura datos experiencia ventas soluci...</td>\n",
       "    </tr>\n",
       "    <tr>\n",
       "      <th>5397</th>\n",
       "      <td>Business Analytics Arequipa</td>\n",
       "      <td>business analytics arequipa</td>\n",
       "      <td>[business, analytics, arequipa]</td>\n",
       "      <td>[business, analytics, arequipa]</td>\n",
       "      <td>[business, analytics, arequipa]</td>\n",
       "      <td>business analytics arequipa</td>\n",
       "    </tr>\n",
       "  </tbody>\n",
       "</table>\n",
       "</div>"
      ],
      "text/plain": [
       "                                                  PUESTO  \\\n",
       "7128                    COORDINADOR ANALYTICS Y BIG DATA   \n",
       "11302  ANALISTA BI DATA ANALYTICS COMERCIAL- SQL AVAN...   \n",
       "5479   ANALISTA BI DATA ANALYTICS COMERCIAL- SQL AVAN...   \n",
       "3185                     Senior Data Engineer (Big Data)   \n",
       "11631                                    Data Management   \n",
       "7001                   Analista de de Business Analytics   \n",
       "5395                                      Data Scientist   \n",
       "11498                                     Data Scientist   \n",
       "7332   Gestor de cultura de Datos- experiencia en ven...   \n",
       "5397                         Business Analytics Arequipa   \n",
       "\n",
       "                                           PUESTO_limpio  \\\n",
       "7128                    coordinador analytics y big data   \n",
       "11302  analista bi data analytics comercial sql avanzado   \n",
       "5479   analista bi data analytics comercial sql avanzado   \n",
       "3185                       senior data engineer big data   \n",
       "11631                                    data management   \n",
       "7001                   analista de de business analytics   \n",
       "5395                                      data scientist   \n",
       "11498                                     data scientist   \n",
       "7332   gestor de cultura de datos experiencia en vent...   \n",
       "5397                         business analytics arequipa   \n",
       "\n",
       "                                    PUESTO_limpio_tokens  \\\n",
       "7128              [coordinador, analytics, y, big, data]   \n",
       "11302  [analista, bi, data, analytics, comercial, sql...   \n",
       "5479   [analista, bi, data, analytics, comercial, sql...   \n",
       "3185                 [senior, data, engineer, big, data]   \n",
       "11631                                 [data, management]   \n",
       "7001             [analista, de, de, business, analytics]   \n",
       "5395                                   [data, scientist]   \n",
       "11498                                  [data, scientist]   \n",
       "7332   [gestor, de, cultura, de, datos, experiencia, ...   \n",
       "5397                     [business, analytics, arequipa]   \n",
       "\n",
       "                             PUESTO_limpio_sin_stopwords  \\\n",
       "7128                 [coordinador, analytics, big, data]   \n",
       "11302  [analista, bi, data, analytics, comercial, sql...   \n",
       "5479   [analista, bi, data, analytics, comercial, sql...   \n",
       "3185                 [senior, data, engineer, big, data]   \n",
       "11631                                 [data, management]   \n",
       "7001                     [analista, business, analytics]   \n",
       "5395                                   [data, scientist]   \n",
       "11498                                  [data, scientist]   \n",
       "7332   [gestor, cultura, datos, experiencia, ventas, ...   \n",
       "5397                     [business, analytics, arequipa]   \n",
       "\n",
       "                                PUESTO_limpio_lematizado  \\\n",
       "7128                 [coordinador, analytics, big, data]   \n",
       "11302  [analista, bi, data, analytics, comercial, sql...   \n",
       "5479   [analista, bi, data, analytics, comercial, sql...   \n",
       "3185                 [senior, data, engineer, big, data]   \n",
       "11631                                 [data, management]   \n",
       "7001                     [analista, business, analytics]   \n",
       "5395                                   [data, scientist]   \n",
       "11498                                  [data, scientist]   \n",
       "7332   [gestor, cultura, datos, experiencia, ventas, ...   \n",
       "5397                     [business, analytics, arequipa]   \n",
       "\n",
       "                                     PUESTO_limpio_final  \n",
       "7128                      coordinador analytics big data  \n",
       "11302  analista bi data analytics comercial sql avanzado  \n",
       "5479   analista bi data analytics comercial sql avanzado  \n",
       "3185                       senior data engineer big data  \n",
       "11631                                    data management  \n",
       "7001                         analista business analytics  \n",
       "5395                                      data scientist  \n",
       "11498                                     data scientist  \n",
       "7332   gestor cultura datos experiencia ventas soluci...  \n",
       "5397                         business analytics arequipa  "
      ]
     },
     "execution_count": 42,
     "metadata": {},
     "output_type": "execute_result"
    }
   ],
   "source": [
    "from sklearn.metrics.pairwise import cosine_similarity\n",
    "\n",
    "similarity = cosine_similarity(cv_vect, job_vect)\n",
    "a = pd.Series(similarity.flatten()).sort_values(ascending=False).head(10)\n",
    "data.iloc[a.index,:]"
   ]
  }
 ],
 "metadata": {
  "kernelspec": {
   "display_name": ".venv",
   "language": "python",
   "name": "python3"
  },
  "language_info": {
   "codemirror_mode": {
    "name": "ipython",
    "version": 3
   },
   "file_extension": ".py",
   "mimetype": "text/x-python",
   "name": "python",
   "nbconvert_exporter": "python",
   "pygments_lexer": "ipython3",
   "version": "3.13.5"
  }
 },
 "nbformat": 4,
 "nbformat_minor": 5
}
